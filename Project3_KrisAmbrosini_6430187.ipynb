{
 "cells": [
  {
   "cell_type": "markdown",
   "metadata": {},
   "source": [
    "# Normalizing the json file"
   ]
  },
  {
   "cell_type": "code",
   "execution_count": 57,
   "metadata": {},
   "outputs": [
    {
     "name": "stdout",
     "output_type": "stream",
     "text": [
      "name\n",
      "binder           25493\n",
      "envelopes        25078\n",
      "notepad          20727\n",
      "pens             13766\n",
      "printer paper    12092\n",
      "backpack          6918\n",
      "laptop            6793\n",
      "Name: quantity, dtype: int64\n"
     ]
    }
   ],
   "source": [
    "import pandas as pd\n",
    "import json\n",
    "from pandas import json_normalize\n",
    "\n",
    "# Load JSON data line by line and convert it into a list of dictionaries\n",
    "data = []\n",
    "with open('C:/Users/lelee/Desktop/Project3/output.json', 'r') as file:\n",
    "    for line in file:\n",
    "        try:\n",
    "            json_object = json.loads(line)\n",
    "            # Convert 'saleDate' to datetime object\n",
    "            json_object['saleDate'] = pd.to_datetime(json_object['saleDate']['$date'])\n",
    "            data.append(json_object)\n",
    "        except json.JSONDecodeError as e:\n",
    "            print(f\"Error decoding JSON: {e}\")\n",
    "\n",
    "# Normalize the 'items' column into a new DataFrame\n",
    "items_df = json_normalize(data, 'items', ['_id', 'saleDate', 'storeLocation', 'customer', 'couponUsed', 'purchaseMethod'])\n",
    "\n",
    "# Perform your analysis on the normalized items DataFrame\n",
    "top_products = items_df.groupby('name')['quantity'].sum().sort_values(ascending=False).head(10)\n",
    "print(top_products)"
   ]
  },
  {
   "cell_type": "markdown",
   "metadata": {},
   "source": [
    "# Printing column name"
   ]
  },
  {
   "cell_type": "code",
   "execution_count": 58,
   "metadata": {},
   "outputs": [
    {
     "name": "stdout",
     "output_type": "stream",
     "text": [
      "Index(['name', 'tags', 'quantity', 'price.$numberDecimal', '_id', 'saleDate',\n",
      "       'storeLocation', 'customer', 'couponUsed', 'purchaseMethod'],\n",
      "      dtype='object')\n"
     ]
    }
   ],
   "source": [
    "print(items_df.columns)\n",
    "\n"
   ]
  },
  {
   "cell_type": "markdown",
   "metadata": {},
   "source": [
    "# Show top 10 products (name) sales (quantity x price). "
   ]
  },
  {
   "cell_type": "code",
   "execution_count": 59,
   "metadata": {},
   "outputs": [
    {
     "name": "stdout",
     "output_type": "stream",
     "text": [
      "name\n",
      "laptop           6775977.07\n",
      "backpack          817374.10\n",
      "pens              581843.27\n",
      "binder            511644.57\n",
      "notepad           463615.48\n",
      "envelopes         376658.49\n",
      "printer paper     367459.29\n",
      "Name: total_sales, dtype: float64\n"
     ]
    }
   ],
   "source": [
    "# Convert 'price.$numberDecimal' column to numeric\n",
    "items_df['price.$numberDecimal'] = pd.to_numeric(items_df['price.$numberDecimal'], errors='coerce')\n",
    "\n",
    "# Calculate total sales for each product (quantity x price)\n",
    "items_df['total_sales'] = items_df['quantity'] * items_df['price.$numberDecimal']\n",
    "\n",
    "# Group by product name and calculate total sales, then sort and get the top 10\n",
    "top_products_sales = items_df.groupby('name')['total_sales'].sum().sort_values(ascending=False).head(10)\n",
    "print(top_products_sales)\n"
   ]
  },
  {
   "cell_type": "markdown",
   "metadata": {},
   "source": [
    "# Show top 3 products (name) sales by store (location). "
   ]
  },
  {
   "cell_type": "code",
   "execution_count": 60,
   "metadata": {},
   "outputs": [
    {
     "name": "stdout",
     "output_type": "stream",
     "text": [
      "   storeLocation      name  total_sales\n",
      "0         Austin    laptop   1018494.05\n",
      "1         Austin  backpack    115217.59\n",
      "2         Austin      pens     74622.52\n",
      "3         Denver    laptop   1961659.25\n",
      "4         Denver  backpack    245679.34\n",
      "5         Denver      pens    185008.39\n",
      "6         London    laptop   1073098.72\n",
      "7         London  backpack    144529.14\n",
      "8         London      pens     92602.30\n",
      "9       New York    laptop    694613.32\n",
      "10      New York  backpack     82563.14\n",
      "11      New York      pens     64029.90\n",
      "12     San Diego    laptop    462973.58\n",
      "13     San Diego  backpack     50997.42\n",
      "14     San Diego      pens     42134.55\n",
      "15       Seattle    laptop   1565138.15\n",
      "16       Seattle  backpack    178387.47\n",
      "17       Seattle      pens    123445.61\n"
     ]
    }
   ],
   "source": [
    "# Group by store location, product name, and calculate total sales, then sort and get the top 3 for each location\n",
    "top_products_by_location = items_df.groupby(['storeLocation', 'name'])['total_sales'].sum().reset_index()\n",
    "top_products_by_location = top_products_by_location.groupby('storeLocation').apply(lambda x: x.nlargest(3, 'total_sales')).reset_index(drop=True)\n",
    "\n",
    "print(top_products_by_location)\n"
   ]
  },
  {
   "cell_type": "markdown",
   "metadata": {},
   "source": [
    "# Show rankings of each store (location). "
   ]
  },
  {
   "cell_type": "code",
   "execution_count": 61,
   "metadata": {},
   "outputs": [
    {
     "name": "stdout",
     "output_type": "stream",
     "text": [
      "  storeLocation  total_sales  rank\n",
      "0        Denver   2921009.92     1\n",
      "1       Seattle   2255947.69     2\n",
      "2        London   1583066.79     3\n",
      "3        Austin   1445603.11     4\n",
      "4      New York   1016059.59     5\n",
      "5     San Diego    672885.17     6\n"
     ]
    }
   ],
   "source": [
    "# Group by store location and calculate total sales, then rank the stores based on total sales\n",
    "store_rankings = items_df.groupby('storeLocation')['total_sales'].sum().sort_values(ascending=False).reset_index()\n",
    "store_rankings['rank'] = store_rankings['total_sales'].rank(ascending=False).astype(int)\n",
    "\n",
    "print(store_rankings)\n"
   ]
  },
  {
   "cell_type": "markdown",
   "metadata": {},
   "source": [
    "# Show purchased method by gender table "
   ]
  },
  {
   "cell_type": "code",
   "execution_count": 62,
   "metadata": {},
   "outputs": [],
   "source": [
    "# Extract information from the 'customer' column\n",
    "items_df['gender'] = items_df['customer'].apply(lambda x: x.get('gender'))\n",
    "items_df['age'] = items_df['customer'].apply(lambda x: x.get('age'))\n",
    "items_df['email'] = items_df['customer'].apply(lambda x: x.get('email'))\n",
    "items_df['satisfaction'] = items_df['customer'].apply(lambda x: x.get('satisfaction'))\n",
    "\n",
    "# Drop the original 'customer' column\n",
    "items_df.drop(columns=['customer'], inplace=True)"
   ]
  },
  {
   "cell_type": "code",
   "execution_count": 63,
   "metadata": {},
   "outputs": [],
   "source": [
    "# Clean up column names by stripping extra spaces\n",
    "items_df.columns = items_df.columns.str.strip()"
   ]
  },
  {
   "cell_type": "code",
   "execution_count": 64,
   "metadata": {},
   "outputs": [
    {
     "name": "stdout",
     "output_type": "stream",
     "text": [
      "purchaseMethod  In store  Online  Phone\n",
      "gender                                 \n",
      "Male                7571    4314   1722\n",
      "Female              8062    4270   1499\n"
     ]
    }
   ],
   "source": [
    "# Replace 'M' with 'Male' and 'F' with 'Female' in the 'gender' column\n",
    "items_df['gender'] = items_df['gender'].replace({'M': 'Male', 'F': 'Female'})\n",
    "\n",
    "# Show purchase method by gender table\n",
    "purchase_method_by_gender = items_df.groupby(['purchaseMethod', 'gender']).size().reset_index(name='count')\n",
    "purchase_method_by_gender_pivot = purchase_method_by_gender.pivot(index='gender', columns='purchaseMethod', values='count')\n",
    "\n",
    "# Reorder the rows to have 'Male' first\n",
    "purchase_method_by_gender_pivot = purchase_method_by_gender_pivot.reindex(index=['Male', 'Female'])\n",
    "\n",
    "# Display the updated purchase method by gender table\n",
    "print(purchase_method_by_gender_pivot)\n"
   ]
  },
  {
   "cell_type": "markdown",
   "metadata": {},
   "source": [
    "# Show monthly total sales "
   ]
  },
  {
   "cell_type": "code",
   "execution_count": 65,
   "metadata": {},
   "outputs": [
    {
     "name": "stdout",
     "output_type": "stream",
     "text": [
      "YearMonth\n",
      "2013-01    196043.76\n",
      "2013-02    147622.59\n",
      "2013-03    140700.06\n",
      "2013-04    162336.67\n",
      "2013-05    179143.37\n",
      "2013-06    142132.02\n",
      "2013-07    176298.23\n",
      "2013-08    130977.22\n",
      "2013-09    137871.99\n",
      "2013-10    173126.73\n",
      "2013-11    148358.38\n",
      "2013-12    174306.96\n",
      "2014-01    125824.02\n",
      "2014-02    141174.41\n",
      "2014-03    193413.50\n",
      "2014-04    132593.08\n",
      "2014-05    166896.80\n",
      "2014-06    143304.56\n",
      "2014-07    184804.60\n",
      "2014-08    167979.81\n",
      "2014-09    159802.92\n",
      "2014-10    149284.84\n",
      "2014-11    180564.85\n",
      "2014-12    139466.83\n",
      "2015-01    222577.01\n",
      "2015-02    189776.15\n",
      "2015-03    178086.94\n",
      "2015-04    132298.50\n",
      "2015-05    167482.69\n",
      "2015-06    149484.34\n",
      "2015-07    149510.47\n",
      "2015-08    154868.63\n",
      "2015-09    135615.80\n",
      "2015-10    175215.34\n",
      "2015-11    158390.42\n",
      "2015-12    166565.02\n",
      "2016-01    166558.93\n",
      "2016-02    120783.52\n",
      "2016-03    193185.17\n",
      "2016-04    137340.27\n",
      "2016-05    162966.06\n",
      "2016-06    132942.54\n",
      "2016-07    180331.10\n",
      "2016-08    164555.33\n",
      "2016-09    138299.53\n",
      "2016-10    151698.93\n",
      "2016-11    170758.41\n",
      "2016-12    215400.07\n",
      "2017-01    207037.75\n",
      "2017-02    134527.54\n",
      "2017-03    162351.15\n",
      "2017-04    191990.94\n",
      "2017-05    202403.85\n",
      "2017-06    201552.55\n",
      "2017-07    156106.90\n",
      "2017-08    173196.13\n",
      "2017-09    186976.26\n",
      "2017-10    191681.25\n",
      "2017-11    202330.86\n",
      "2017-12    175697.72\n",
      "Freq: M, Name: total_sales, dtype: float64\n"
     ]
    },
    {
     "name": "stderr",
     "output_type": "stream",
     "text": [
      "C:\\Users\\lelee\\AppData\\Local\\Temp\\ipykernel_2232\\1649362248.py:2: UserWarning: Converting to PeriodArray/Index representation will drop timezone information.\n",
      "  items_df['YearMonth'] = items_df['saleDate'].dt.to_period('M')\n"
     ]
    }
   ],
   "source": [
    "# Calculate monthly total sales\n",
    "items_df['YearMonth'] = items_df['saleDate'].dt.to_period('M')\n",
    "monthly_sales = items_df.groupby('YearMonth')['total_sales'].sum()\n",
    "print(monthly_sales)"
   ]
  }
 ],
 "metadata": {
  "kernelspec": {
   "display_name": "Python 3",
   "language": "python",
   "name": "python3"
  },
  "language_info": {
   "codemirror_mode": {
    "name": "ipython",
    "version": 3
   },
   "file_extension": ".py",
   "mimetype": "text/x-python",
   "name": "python",
   "nbconvert_exporter": "python",
   "pygments_lexer": "ipython3",
   "version": "3.10.9"
  },
  "orig_nbformat": 4
 },
 "nbformat": 4,
 "nbformat_minor": 2
}
